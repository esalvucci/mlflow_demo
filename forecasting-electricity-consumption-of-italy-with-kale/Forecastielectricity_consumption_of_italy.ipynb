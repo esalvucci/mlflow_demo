{
 "cells": [
  {
   "cell_type": "markdown",
   "metadata": {
    "tags": []
   },
   "source": [
    "# Forecasting hourly electricity consumption of Italy"
   ]
  },
  {
   "cell_type": "code",
   "execution_count": 2,
   "metadata": {
    "tags": [
     "imports"
    ]
   },
   "outputs": [],
   "source": [
    "import pandas as pd\n",
    "import numpy as np\n",
    "import math\n",
    "import holidays\n",
    "import matplotlib.pyplot as plt\n",
    "from sklearn.preprocessing import (\n",
    "    StandardScaler, OneHotEncoder, FunctionTransformer\n",
    ")\n",
    "from sklearn.compose import ColumnTransformer\n",
    "from sklearn.model_selection import (\n",
    "    train_test_split, KFold, GridSearchCV, ParameterGrid,\n",
    ")\n",
    "from sklearn.metrics import mean_squared_error\n",
    "from xgboost import XGBRegressor, DMatrix, plot_importance\n",
    "from xgboost import cv as xgb_cv\n",
    "from urllib.parse import urlparse\n",
    "import sys\n",
    "import os"
   ]
  },
  {
   "cell_type": "code",
   "execution_count": 24,
   "metadata": {
    "tags": [
     "functions"
    ]
   },
   "outputs": [],
   "source": [
    "def split_train_test(df, split_time):\n",
    "    df_train = df.loc[df.index < split_time]\n",
    "    df_test = df.loc[df.index >= split_time]\n",
    "    return df_train, df_test\n",
    "\n",
    "\n",
    "def add_time_features(df):\n",
    "    cet_index = df.index.tz_convert(\"CET\")\n",
    "    df[\"month\"] = cet_index.month\n",
    "    df[\"weekday\"] = cet_index.weekday\n",
    "    df[\"hour\"] = cet_index.hour\n",
    "    return df\n",
    "\n",
    "\n",
    "def add_holiday_features(df):\n",
    "    de_holidays = holidays.Germany()\n",
    "    cet_dates = pd.Series(df.index.tz_convert(\"CET\"), index=df.index)\n",
    "    df[\"holiday\"] = cet_dates.apply(lambda d: d in de_holidays)\n",
    "    df[\"holiday\"] = df[\"holiday\"].astype(int)\n",
    "    return df\n",
    "\n",
    "\n",
    "def add_lag_features(df, col=\"load\"):\n",
    "    for n_hours in range(24, 49):\n",
    "        shifted_col = df[col].shift(n_hours, \"h\")\n",
    "        shifted_col = shifted_col.loc[df.index.min(): df.index.max()]\n",
    "        label = f\"{col}_lag_{n_hours}\"\n",
    "        df[label] = np.nan\n",
    "        df.loc[shifted_col.index, label] = shifted_col\n",
    "    return df\n",
    "\n",
    "\n",
    "def add_all_features(df, target_col=\"load\"):\n",
    "    df = df.copy()\n",
    "    df = add_time_features(df)\n",
    "    df = add_holiday_features(df)\n",
    "    df = add_lag_features(df, col=target_col)\n",
    "    return df\n",
    "\n",
    "\n",
    "def fit_prep_pipeline(df):\n",
    "    cat_features = [\"month\", \"weekday\", \"hour\"]  # categorical features\n",
    "    bool_features = [\"holiday\"]  # boolean features\n",
    "    num_features = [c for c in df.columns\n",
    "                    if c.startswith(\"load_lag\")]  # numerical features\n",
    "    prep_pipeline = ColumnTransformer([\n",
    "        (\"cat\", OneHotEncoder(), cat_features),\n",
    "        (\"bool\", FunctionTransformer(), bool_features),  # identity\n",
    "        (\"num\", StandardScaler(), num_features),\n",
    "    ])\n",
    "    prep_pipeline = prep_pipeline.fit(df)\n",
    "    \n",
    "    feature_names = []\n",
    "    one_hot_tf = prep_pipeline.transformers_[0][1]\n",
    "    for i, cat_feature in enumerate(cat_features):\n",
    "        categories = one_hot_tf.categories_[i]\n",
    "        cat_names = [f\"{cat_feature}_{c}\" for c in categories]\n",
    "        feature_names += cat_names\n",
    "    feature_names += (bool_features + num_features)\n",
    "    \n",
    "    return feature_names, prep_pipeline\n",
    "\n",
    "\n",
    "def compute_learning_curves(model, X, y, curve_step, verbose=False):\n",
    "    X_train, X_val, y_train, y_val = train_test_split(\n",
    "        X, y, test_size=0.2, shuffle=False\n",
    "    )\n",
    "    n_train_obs = X_train.shape[0]\n",
    "    n_iter = math.ceil(n_train_obs / curve_step)\n",
    "    train_errors, val_errors, steps = [], [], []\n",
    "    for i in range(n_iter):\n",
    "        n_obs = (i+1) * curve_step\n",
    "        n_obs = min(n_obs, n_train_obs)\n",
    "        model.fit(X_train[:n_obs], y_train[:n_obs])\n",
    "        y_train_predict = model.predict(X_train[:n_obs])\n",
    "        y_val_predict = model.predict(X_val)\n",
    "        train_mse = mean_squared_error(y_train[:n_obs], y_train_predict)\n",
    "        val_mse = mean_squared_error(y_val, y_val_predict)\n",
    "        train_errors.append(train_mse)\n",
    "        val_errors.append(val_mse)\n",
    "        steps.append(n_obs)\n",
    "        if verbose:\n",
    "            msg = \"Iteration {0}/{1}: train_rmse={2:.2f}, val_rmse={3:.2f}\".format(\n",
    "                i+1, n_iter, np.sqrt(train_mse), np.sqrt(val_mse)\n",
    "            )\n",
    "            print(msg)\n",
    "    return steps, train_errors, val_errors\n",
    "\n",
    "def plot_learning_curves(steps, train_errors, val_errors, ax=None, title=\"\"):\n",
    "    if ax is None:\n",
    "        _, ax = plt.subplots(1, 1, figsize=(6, 4))\n",
    "    train_rmse = np.sqrt(train_errors)\n",
    "    val_rmse = np.sqrt(val_errors)\n",
    "    ax.plot(steps, train_rmse, color=\"tab:blue\",\n",
    "            marker=\".\", label=\"training\")\n",
    "    ax.plot(steps, val_rmse, color=\"tab:orange\",\n",
    "            marker=\".\", label=\"validation\")\n",
    "    ylim = (0.8*np.median(train_rmse),\n",
    "            1.5*np.median(val_rmse))\n",
    "    ax.set_ylim(ylim)\n",
    "    ax.set_xlabel(\"Number of observations\")\n",
    "    ax.set_ylabel(\"RMSE (MW)\")\n",
    "    ax.set_title(title)\n",
    "    ax.legend()\n",
    "    ax.grid()\n",
    "    \n",
    "    \n",
    "def compute_predictions_df(model, X, y):\n",
    "    y_pred = model.predict(X)\n",
    "    df = pd.DataFrame(dict(actual=y, prediction=y_pred), index=X.index)\n",
    "    df[\"squared_error\"] =  (df[\"actual\"] - df[\"prediction\"])**2\n",
    "    return df\n",
    "\n",
    "\n",
    "def plot_predictions(pred_df, start=None, end=None):\n",
    "    _, ax = plt.subplots(1, 1, figsize=(12, 5))\n",
    "    start = start or pred_df.index.min()\n",
    "    end = end or pred_df.index.max()\n",
    "    pred_df.loc[\n",
    "        (pred_df.index >= start) & (pred_df.index <= end),\n",
    "        [\"actual\", \"prediction\"]\n",
    "    ].plot.line(ax=ax)\n",
    "    ax.set_title(\"Predictions on test set\")\n",
    "    ax.set_ylabel(\"MW\")\n",
    "    ax.grid()"
   ]
  },
  {
   "cell_type": "markdown",
   "metadata": {
    "tags": []
   },
   "source": [
    "## Loading the data\n",
    "We will work with consumption data ranging from Jan 2015 to Jan 2020\n",
    "The German load data is originally available with 15-min resolution. We have resampled it on an hourly basis for this analysis."
   ]
  },
  {
   "cell_type": "code",
   "execution_count": 6,
   "metadata": {
    "tags": [
     "block:load_data"
    ]
   },
   "outputs": [
    {
     "name": "stdout",
     "output_type": "stream",
     "text": [
      "<class 'pandas.core.frame.DataFrame'>\n",
      "DatetimeIndex: 44568 entries, 2015-01-01 00:00:00+00:00 to 2020-01-31 23:00:00+00:00\n",
      "Freq: H\n",
      "Data columns (total 1 columns):\n",
      " #   Column  Non-Null Count  Dtype  \n",
      "---  ------  --------------  -----  \n",
      " 0   load    44568 non-null  float64\n",
      "dtypes: float64(1)\n",
      "memory usage: 696.4 KB\n"
     ]
    }
   ],
   "source": [
    "STUDY_START_DATE = pd.Timestamp(\"2015-01-01 00:00\", tz=\"utc\")\n",
    "STUDY_END_DATE = pd.Timestamp(\"2020-01-31 23:00\", tz=\"utc\")\n",
    "\n",
    "dataset_url = os.path.join(os.getcwd(), \"../datasets/it.csv\")\n",
    "it_load = pd.read_csv(dataset_url)\n",
    "it_load = it_load.drop(columns=\"end\").set_index(\"start\")\n",
    "it_load.index = pd.to_datetime(it_load.index)\n",
    "it_load.index.name = \"time\"\n",
    "it_load = it_load.groupby(pd.Grouper(freq=\"h\")).mean()\n",
    "it_load = it_load.loc[\n",
    "    (it_load.index >= STUDY_START_DATE) & (it_load.index <= STUDY_END_DATE), :\n",
    "]\n",
    "it_load.info()"
   ]
  },
  {
   "cell_type": "markdown",
   "metadata": {
    "tags": []
   },
   "source": [
    "Let's define our test set as the last 12 months of data"
   ]
  },
  {
   "cell_type": "code",
   "execution_count": 26,
   "metadata": {
    "tags": [
     "block:split_train_test_set",
     "prev:load_data"
    ]
   },
   "outputs": [],
   "source": [
    "df_train, df_test = split_train_test(\n",
    "    it_load, pd.Timestamp(\"2019-02-01\", tz=\"utc\")\n",
    ")"
   ]
  },
  {
   "cell_type": "markdown",
   "metadata": {
    "tags": []
   },
   "source": [
    "Our training data covers roughly 20% of the data set"
   ]
  },
  {
   "cell_type": "code",
   "execution_count": 27,
   "metadata": {
    "tags": [
     "skip"
    ]
   },
   "outputs": [
    {
     "data": {
      "image/png": "[encoded data removed]",
      "text/plain": [
       "<Figure size 864x288 with 1 Axes>"
      ]
     },
     "metadata": {
      "needs_background": "light"
     },
     "output_type": "display_data"
    }
   ],
   "source": [
    "ax = df_train[\"load\"].plot(figsize=(12, 4), color=\"tab:blue\")\n",
    "_ = df_test[\"load\"].plot(ax=ax, color=\"tab:orange\", ylabel=\"MW\")"
   ]
  },
  {
   "cell_type": "markdown",
   "metadata": {
    "tags": []
   },
   "source": [
    "## Data Preparation"
   ]
  },
  {
   "cell_type": "markdown",
   "metadata": {
    "tags": []
   },
   "source": [
    "There are no missing observations in our training data (there actually were a few missing observations on 15-min granularity, but we took care of these with hourly aggregation when loading the data)."
   ]
  },
  {
   "cell_type": "markdown",
   "metadata": {
    "tags": []
   },
   "source": [
    "\n",
    "Create features for training\n",
    "\n",
    "The following features are used for training our forecast models :\n",
    "\n",
    "    time features: month, weekday and hour\n",
    "    national holiday features, as a boolean time series\n",
    "    lag features: load data with a lag values ranging from 24 to 48 hours\n",
    "\n"
   ]
  },
  {
   "cell_type": "markdown",
   "metadata": {
    "tags": []
   },
   "source": [
    "The lag features introduce a few missing values which we will move out of the analysis. The features of our training set are then the following :"
   ]
  },
  {
   "cell_type": "code",
   "execution_count": 28,
   "metadata": {
    "tags": [
     "block:data_preparation",
     "prev:split_train_test_set"
    ]
   },
   "outputs": [
    {
     "name": "stdout",
     "output_type": "stream",
     "text": [
      "<class 'pandas.core.frame.DataFrame'>\n",
      "DatetimeIndex: 35760 entries, 2015-01-03 00:00:00+00:00 to 2019-01-31 23:00:00+00:00\n",
      "Freq: H\n",
      "Data columns (total 30 columns):\n",
      " #   Column       Non-Null Count  Dtype  \n",
      "---  ------       --------------  -----  \n",
      " 0   load         35760 non-null  float64\n",
      " 1   month        35760 non-null  int64  \n",
      " 2   weekday      35760 non-null  int64  \n",
      " 3   hour         35760 non-null  int64  \n",
      " 4   holiday      35760 non-null  int64  \n",
      " 5   load_lag_24  35760 non-null  float64\n",
      " 6   load_lag_25  35760 non-null  float64\n",
      " 7   load_lag_26  35760 non-null  float64\n",
      " 8   load_lag_27  35760 non-null  float64\n",
      " 9   load_lag_28  35760 non-null  float64\n",
      " 10  load_lag_29  35760 non-null  float64\n",
      " 11  load_lag_30  35760 non-null  float64\n",
      " 12  load_lag_31  35760 non-null  float64\n",
      " 13  load_lag_32  35760 non-null  float64\n",
      " 14  load_lag_33  35760 non-null  float64\n",
      " 15  load_lag_34  35760 non-null  float64\n",
      " 16  load_lag_35  35760 non-null  float64\n",
      " 17  load_lag_36  35760 non-null  float64\n",
      " 18  load_lag_37  35760 non-null  float64\n",
      " 19  load_lag_38  35760 non-null  float64\n",
      " 20  load_lag_39  35760 non-null  float64\n",
      " 21  load_lag_40  35760 non-null  float64\n",
      " 22  load_lag_41  35760 non-null  float64\n",
      " 23  load_lag_42  35760 non-null  float64\n",
      " 24  load_lag_43  35760 non-null  float64\n",
      " 25  load_lag_44  35760 non-null  float64\n",
      " 26  load_lag_45  35760 non-null  float64\n",
      " 27  load_lag_46  35760 non-null  float64\n",
      " 28  load_lag_47  35760 non-null  float64\n",
      " 29  load_lag_48  35760 non-null  float64\n",
      "dtypes: float64(26), int64(4)\n",
      "memory usage: 8.5 MB\n"
     ]
    }
   ],
   "source": [
    "df_train.loc[df_train[\"load\"].isna(), :].index\n",
    "df_train = add_all_features(df_train).dropna()\n",
    "df_test = add_all_features(df_test).dropna()\n",
    "df_train.info()\n",
    "\n",
    "target_col = \"load\"\n",
    "X_train = df_train.drop(columns=target_col)\n",
    "y_train = df_train.loc[:, target_col]\n",
    "X_test = df_test.drop(columns=target_col)\n",
    "y_test = df_test.loc[:, target_col]"
   ]
  },
  {
   "cell_type": "markdown",
   "metadata": {
    "tags": []
   },
   "source": [
    "We then separate target values from features into distinct data frames."
   ]
  },
  {
   "cell_type": "markdown",
   "metadata": {
    "tags": []
   },
   "source": [
    "We'll use the following data preparation pipeline to apply one-hot encoders on categorical feratures (time features), and a standard scaler on numerical features (lag features)."
   ]
  },
  {
   "cell_type": "markdown",
   "metadata": {
    "tags": []
   },
   "source": [
    "We then fit pipeline on training data, and apply it on training and test sets"
   ]
  },
  {
   "cell_type": "code",
   "execution_count": 29,
   "metadata": {
    "tags": []
   },
   "outputs": [
    {
     "name": "stdout",
     "output_type": "stream",
     "text": [
      "<class 'pandas.core.frame.DataFrame'>\n",
      "DatetimeIndex: 35760 entries, 2015-01-03 00:00:00+00:00 to 2019-01-31 23:00:00+00:00\n",
      "Freq: H\n",
      "Data columns (total 69 columns):\n",
      " #   Column       Non-Null Count  Dtype  \n",
      "---  ------       --------------  -----  \n",
      " 0   month_1      35760 non-null  float64\n",
      " 1   month_2      35760 non-null  float64\n",
      " 2   month_3      35760 non-null  float64\n",
      " 3   month_4      35760 non-null  float64\n",
      " 4   month_5      35760 non-null  float64\n",
      " 5   month_6      35760 non-null  float64\n",
      " 6   month_7      35760 non-null  float64\n",
      " 7   month_8      35760 non-null  float64\n",
      " 8   month_9      35760 non-null  float64\n",
      " 9   month_10     35760 non-null  float64\n",
      " 10  month_11     35760 non-null  float64\n",
      " 11  month_12     35760 non-null  float64\n",
      " 12  weekday_0    35760 non-null  float64\n",
      " 13  weekday_1    35760 non-null  float64\n",
      " 14  weekday_2    35760 non-null  float64\n",
      " 15  weekday_3    35760 non-null  float64\n",
      " 16  weekday_4    35760 non-null  float64\n",
      " 17  weekday_5    35760 non-null  float64\n",
      " 18  weekday_6    35760 non-null  float64\n",
      " 19  hour_0       35760 non-null  float64\n",
      " 20  hour_1       35760 non-null  float64\n",
      " 21  hour_2       35760 non-null  float64\n",
      " 22  hour_3       35760 non-null  float64\n",
      " 23  hour_4       35760 non-null  float64\n",
      " 24  hour_5       35760 non-null  float64\n",
      " 25  hour_6       35760 non-null  float64\n",
      " 26  hour_7       35760 non-null  float64\n",
      " 27  hour_8       35760 non-null  float64\n",
      " 28  hour_9       35760 non-null  float64\n",
      " 29  hour_10      35760 non-null  float64\n",
      " 30  hour_11      35760 non-null  float64\n",
      " 31  hour_12      35760 non-null  float64\n",
      " 32  hour_13      35760 non-null  float64\n",
      " 33  hour_14      35760 non-null  float64\n",
      " 34  hour_15      35760 non-null  float64\n",
      " 35  hour_16      35760 non-null  float64\n",
      " 36  hour_17      35760 non-null  float64\n",
      " 37  hour_18      35760 non-null  float64\n",
      " 38  hour_19      35760 non-null  float64\n",
      " 39  hour_20      35760 non-null  float64\n",
      " 40  hour_21      35760 non-null  float64\n",
      " 41  hour_22      35760 non-null  float64\n",
      " 42  hour_23      35760 non-null  float64\n",
      " 43  holiday      35760 non-null  float64\n",
      " 44  load_lag_24  35760 non-null  float64\n",
      " 45  load_lag_25  35760 non-null  float64\n",
      " 46  load_lag_26  35760 non-null  float64\n",
      " 47  load_lag_27  35760 non-null  float64\n",
      " 48  load_lag_28  35760 non-null  float64\n",
      " 49  load_lag_29  35760 non-null  float64\n",
      " 50  load_lag_30  35760 non-null  float64\n",
      " 51  load_lag_31  35760 non-null  float64\n",
      " 52  load_lag_32  35760 non-null  float64\n",
      " 53  load_lag_33  35760 non-null  float64\n",
      " 54  load_lag_34  35760 non-null  float64\n",
      " 55  load_lag_35  35760 non-null  float64\n",
      " 56  load_lag_36  35760 non-null  float64\n",
      " 57  load_lag_37  35760 non-null  float64\n",
      " 58  load_lag_38  35760 non-null  float64\n",
      " 59  load_lag_39  35760 non-null  float64\n",
      " 60  load_lag_40  35760 non-null  float64\n",
      " 61  load_lag_41  35760 non-null  float64\n",
      " 62  load_lag_42  35760 non-null  float64\n",
      " 63  load_lag_43  35760 non-null  float64\n",
      " 64  load_lag_44  35760 non-null  float64\n",
      " 65  load_lag_45  35760 non-null  float64\n",
      " 66  load_lag_46  35760 non-null  float64\n",
      " 67  load_lag_47  35760 non-null  float64\n",
      " 68  load_lag_48  35760 non-null  float64\n",
      "dtypes: float64(69)\n",
      "memory usage: 19.1 MB\n"
     ]
    }
   ],
   "source": [
    "feature_names, prep_pipeline = fit_prep_pipeline(X_train)\n",
    "\n",
    "X_train_prep = prep_pipeline.transform(X_train)\n",
    "X_train_prep = pd.DataFrame(X_train_prep, columns=feature_names, index=df_train.index)\n",
    "X_test_prep = prep_pipeline.transform(X_test)\n",
    "X_test_prep = pd.DataFrame(X_test_prep, columns=feature_names, index=df_test.index)\n",
    "\n",
    "X_train_prep.info()"
   ]
  },
  {
   "cell_type": "markdown",
   "metadata": {
    "tags": []
   },
   "source": [
    "## Training regression models"
   ]
  },
  {
   "cell_type": "markdown",
   "metadata": {
    "tags": []
   },
   "source": [
    "A model be trained for our prediction task : Gradient boosting model (based on XGBoost library)."
   ]
  },
  {
   "cell_type": "code",
   "execution_count": 30,
   "metadata": {
    "tags": [
     "block:train_model",
     "prev:data_preparation"
    ]
   },
   "outputs": [],
   "source": [
    "xgb_model = XGBRegressor(objective ='reg:squarederror', n_estimators=1000)"
   ]
  },
  {
   "cell_type": "markdown",
   "metadata": {
    "tags": []
   },
   "source": [
    "### Learning curves "
   ]
  },
  {
   "cell_type": "markdown",
   "metadata": {
    "tags": []
   },
   "source": [
    "The behaviour and performance of the previous models can be represented with learning curves. These are showing the models performance evolution based on experience (the amount of training data that is fed to the algorithm)."
   ]
  },
  {
   "cell_type": "markdown",
   "metadata": {
    "tags": []
   },
   "source": [
    "The linear model achieves a validation RMSE of ±3230MW. The training RMSE is ±3100MW which is relatively close."
   ]
  },
  {
   "cell_type": "code",
   "execution_count": null,
   "metadata": {
    "tags": []
   },
   "outputs": [
    {
     "name": "stdout",
     "output_type": "stream",
     "text": [
      "Iteration 1/29: train_rmse=136.23, val_rmse=2719.66\n",
      "Iteration 2/29: train_rmse=295.12, val_rmse=2439.68\n",
      "Iteration 3/29: train_rmse=438.50, val_rmse=2286.66\n",
      "Iteration 4/29: train_rmse=521.49, val_rmse=2130.67\n",
      "Iteration 5/29: train_rmse=590.48, val_rmse=1947.60\n",
      "Iteration 6/29: train_rmse=671.26, val_rmse=1806.49\n",
      "Iteration 7/29: train_rmse=670.86, val_rmse=1822.81\n",
      "Iteration 8/29: train_rmse=691.40, val_rmse=1823.26\n",
      "Iteration 9/29: train_rmse=838.61, val_rmse=1854.16\n",
      "Iteration 10/29: train_rmse=851.12, val_rmse=1818.19\n",
      "Iteration 11/29: train_rmse=864.04, val_rmse=1795.28\n",
      "Iteration 12/29: train_rmse=931.23, val_rmse=1820.87\n",
      "Iteration 13/29: train_rmse=991.19, val_rmse=1821.06\n",
      "Iteration 14/29: train_rmse=1020.59, val_rmse=1770.23\n",
      "Iteration 15/29: train_rmse=1068.17, val_rmse=1768.84\n"
     ]
    }
   ],
   "source": [
    "xgb_steps, xgb_train_mse, xgb_val_mse = compute_learning_curves(\n",
    "    xgb_model, X_train_prep, y_train, 1000, verbose=True\n",
    ")"
   ]
  },
  {
   "cell_type": "code",
   "execution_count": null,
   "metadata": {
    "tags": []
   },
   "outputs": [],
   "source": [
    "xgb_model.fit(X_train_prep, y=y_train)"
   ]
  },
  {
   "cell_type": "markdown",
   "metadata": {
    "tags": []
   },
   "source": [
    "Skip the Hyperparameters tuning here"
   ]
  },
  {
   "cell_type": "code",
   "execution_count": null,
   "metadata": {
    "tags": [
     "block:predict",
     "prev:train_model"
    ]
   },
   "outputs": [],
   "source": [
    "pred_df = compute_predictions_df(\n",
    "    xgb_model, X_test_prep, y_test\n",
    ")\n",
    "pred_df.head()"
   ]
  },
  {
   "cell_type": "code",
   "execution_count": null,
   "metadata": {
    "tags": []
   },
   "outputs": [],
   "source": [
    "plot_predictions(pred_df)"
   ]
  }
 ],
 "metadata": {
  "kernelspec": {
   "display_name": "Python 3",
   "language": "python",
   "name": "python3"
  },
  "kubeflow_notebook": {
   "docker_image": "gcr.io/arrikto-public/tensorflow-1.15.2-notebook-cpu:1.0.0.arr1",
   "experiment": {
    "id": "1907debe-985a-4e00-bce6-d0e91071dd66",
    "name": "First experiment"
   },
   "experiment_name": "First experiment",
   "pipeline_description": "Forecasting hourly electricity consumption in Italy",
   "pipeline_name": "forecasting-electricity-consumption-it",
   "volumes": [
    {
     "annotations": [],
     "mount_point": "/home/jovyan",
     "name": "workspace-example-utf7s6i2o",
     "size": 5,
     "size_type": "Gi",
     "snapshot": false,
     "type": "clone"
    }
   ]
  },
  "language_info": {
   "codemirror_mode": {
    "name": "ipython",
    "version": 3
   },
   "file_extension": ".py",
   "mimetype": "text/x-python",
   "name": "python",
   "nbconvert_exporter": "python",
   "pygments_lexer": "ipython3",
   "version": "3.6.9"
  }
 },
 "nbformat": 4,
 "nbformat_minor": 4
}
